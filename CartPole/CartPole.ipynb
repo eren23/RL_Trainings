{
  "nbformat": 4,
  "nbformat_minor": 0,
  "metadata": {
    "colab": {
      "name": "CartPole.ipynb",
      "provenance": []
    },
    "kernelspec": {
      "name": "python3",
      "display_name": "Python 3"
    }
  },
  "cells": [
    {
      "cell_type": "code",
      "metadata": {
        "id": "5cbNtHsvqhBe"
      },
      "source": [
        "import gym \n",
        "import math\n",
        "import random\n",
        "import numpy as np\n",
        "import matplotlib\n",
        "import matplotlib.pyplot as plt\n",
        "from collections import namedtuple\n",
        "from itertools import count\n",
        "import torch\n",
        "import torch.nn as nn\n",
        "import torch.optim as optim\n",
        "import torch.nn.functional as F\n",
        "import torchvision.transforms as T"
      ],
      "execution_count": 2,
      "outputs": []
    },
    {
      "cell_type": "code",
      "metadata": {
        "id": "o3IlY8Udr9rO"
      },
      "source": [
        "is_ipython= 'inline' in matplotlib.get_backend()\n",
        "if is_ipython: from IPython import display"
      ],
      "execution_count": 4,
      "outputs": []
    },
    {
      "cell_type": "code",
      "metadata": {
        "id": "XL-Qt_EPso8a"
      },
      "source": [
        "class DQN(nn.Module):\n",
        "  def __init__(self, img_height, img_width):\n",
        "    super().__init__()\n",
        "\n",
        "    self.fc1 = nn.Linear(in_features=img_height*img_width*3, out_features=24)\n",
        "    self.fc2 = nn.Linear(in_features=24, out_features=32)\n",
        "    self.out = nn.Linear(in_features=32, out_features=2)\n",
        "\n",
        "  def forward(self,t):\n",
        "    t=t.flatten(start_dim=1)\n",
        "    t = F.relu(self.fc1(t))\n",
        "    t = F.relu(self.fc2(t))\n",
        "    t = self.out(t)\n",
        "    return t"
      ],
      "execution_count": null,
      "outputs": []
    },
    {
      "cell_type": "code",
      "metadata": {
        "id": "pxiWlXGKuKNA"
      },
      "source": [
        "Experience = namedtuple('Experience', ('state','action','next_state','reward'))"
      ],
      "execution_count": null,
      "outputs": []
    },
    {
      "cell_type": "code",
      "metadata": {
        "id": "ZIGa8NO3yQhq"
      },
      "source": [
        "class ReplayMemory():\n",
        "  def __init__(self, capacity):\n",
        "    self.capacity = capacity\n",
        "    self.memory = []\n",
        "    self.push_count = 0\n",
        "\n",
        "  def push(self,experience):\n",
        "    if len(self.memory) < self.capacity:\n",
        "      self.memory.append(experience)\n",
        "\n",
        "    else:\n",
        "      self.memory[self.push_count%self.capacity]=experience\n",
        "    self.push_count\n",
        "  \n",
        "  def sample(self, batch_size):\n",
        "    return random.sample(self.memory, batch_size)\n",
        "\n",
        "  def can_provide_sample(self, batch_size):\n",
        "    return len(self.memory) >= batch_size"
      ],
      "execution_count": null,
      "outputs": []
    },
    {
      "cell_type": "code",
      "metadata": {
        "id": "HQlDiZpi1LMC"
      },
      "source": [
        "class EpsilonGreedyStrategy():\n",
        "  def __init__(self,start,end,decay):\n",
        "    self.start = start\n",
        "    self.end = end\n",
        "    self.decay =decay\n",
        "\n",
        "  def get_exploration_rate(self,current_step):\n",
        "    return self.end+(self.start-self.end)*math.exp(-1.*current_step*self.decay)"
      ],
      "execution_count": null,
      "outputs": []
    },
    {
      "cell_type": "code",
      "metadata": {
        "id": "ZcVsp40_1tfK"
      },
      "source": [
        "class Agent():\n",
        "  def __init__(self,strategy,num_actions):\n",
        "    self.current_step=0\n",
        "    self.strategy = strategy\n",
        "    self.num_actions = num_actions\n",
        "\n",
        "  def select_action(self,state,policy_net):\n",
        "    rate = strategy.get_exploration_rate(self.current_step)\n",
        "    self.current_step+=1\n",
        "\n",
        "  if rate>random.random():\n",
        "    return random.randrange(self.num_actions) #explore\n",
        "  else: \n",
        "    with torch.no_grad():\n",
        "      return policy_net(state).argmax(dim=1).item() #exploit"
      ],
      "execution_count": null,
      "outputs": []
    }
  ]
}