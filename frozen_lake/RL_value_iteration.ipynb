{
  "nbformat": 4,
  "nbformat_minor": 0,
  "metadata": {
    "colab": {
      "name": "RL_value_iteration.ipynb",
      "provenance": [],
      "collapsed_sections": []
    },
    "kernelspec": {
      "name": "python3",
      "display_name": "Python 3"
    }
  },
  "cells": [
    {
      "cell_type": "code",
      "metadata": {
        "id": "ueN9lwFxOCye"
      },
      "source": [
        "import numpy as np\n",
        "import gym\n",
        "import random\n",
        "import time\n",
        "from IPython.display import clear_output"
      ],
      "execution_count": 1,
      "outputs": []
    },
    {
      "cell_type": "code",
      "metadata": {
        "id": "xSsOqqj6OQzw"
      },
      "source": [
        "env = gym.make(\"FrozenLake-v0\")"
      ],
      "execution_count": 2,
      "outputs": []
    },
    {
      "cell_type": "code",
      "metadata": {
        "colab": {
          "base_uri": "https://localhost:8080/"
        },
        "id": "cMKe2rvDOZIJ",
        "outputId": "a770d5f1-edc2-4790-818a-ab42f23d20b6"
      },
      "source": [
        "action_space_size = env.action_space.n\n",
        "state_space_size = env.observation_space.n\n",
        "\n",
        "q_table = np.zeros((state_space_size, action_space_size))\n",
        "\n",
        "print(q_table)"
      ],
      "execution_count": 3,
      "outputs": [
        {
          "output_type": "stream",
          "text": [
            "[[0. 0. 0. 0.]\n",
            " [0. 0. 0. 0.]\n",
            " [0. 0. 0. 0.]\n",
            " [0. 0. 0. 0.]\n",
            " [0. 0. 0. 0.]\n",
            " [0. 0. 0. 0.]\n",
            " [0. 0. 0. 0.]\n",
            " [0. 0. 0. 0.]\n",
            " [0. 0. 0. 0.]\n",
            " [0. 0. 0. 0.]\n",
            " [0. 0. 0. 0.]\n",
            " [0. 0. 0. 0.]\n",
            " [0. 0. 0. 0.]\n",
            " [0. 0. 0. 0.]\n",
            " [0. 0. 0. 0.]\n",
            " [0. 0. 0. 0.]]\n"
          ],
          "name": "stdout"
        }
      ]
    },
    {
      "cell_type": "code",
      "metadata": {
        "id": "gXz451YWO5BX"
      },
      "source": [
        "num_episodes = 10000 #total number of episodes we want our agent to play during the training\n",
        "max_steps_per_episode = 100 #max number of steps that our agent can take during each episode\n",
        "\n",
        "learning_rate = 0.1 \n",
        "discount_rate = 0.99\n",
        "\n",
        "exploration_rate =1 \n",
        "max_exploration_rate =1\n",
        "min_exploration_rate = 0.01\n",
        "exploration_decay_rate = 0.001 #rate to lower exploration rate"
      ],
      "execution_count": 12,
      "outputs": []
    },
    {
      "cell_type": "code",
      "metadata": {
        "colab": {
          "base_uri": "https://localhost:8080/"
        },
        "id": "s8GaEH0jQV9P",
        "outputId": "5d995d2e-e4ad-41fb-b981-82b7ae428490"
      },
      "source": [
        "rewards_all_episodes = []\n",
        "\n",
        "for episode in range(num_episodes):\n",
        "  state = env.reset()\n",
        "  done = False\n",
        "  rewards_current_episode=0\n",
        "\n",
        "  for step in range (max_steps_per_episode):\n",
        "    exploration_rate_threshold = random.uniform(0,1)\n",
        "\n",
        "    if exploration_rate_threshold > exploration_rate:\n",
        "      action = np.argmax(q_table[state,:]) #find the action that has the highest q_value in the q_table for the given state\n",
        "    else: \n",
        "      action = env.action_space.sample()\n",
        "\n",
        "    new_state, reward, done, info = env.step(action)\n",
        "\n",
        "    q_table[state, action] = q_table[state,action]*(1-learning_rate)+learning_rate*(reward+discount_rate*np.max(q_table[new_state, :]))\n",
        "    # new q_value is the weighted sum of the old and the learned value\n",
        "\n",
        "    state = new_state\n",
        "    rewards_current_episode += reward\n",
        "\n",
        "    if done == True:\n",
        "      break\n",
        "  #exp rate decay\n",
        "  exploration_rate= min_exploration_rate + (max_exploration_rate-min_exploration_rate)*np.exp(-exploration_decay_rate*episode)\n",
        "\n",
        "  rewards_all_episodes.append(rewards_current_episode)\n",
        "\n",
        "rewards_per_thousand_episodes = np.split(np.array(rewards_all_episodes), num_episodes/1000)\n",
        "count = 1000\n",
        "\n",
        "print(\"@@@@@@@-Averaged Reward per Thousand Episodes-@@@@@@@@ \\n\")\n",
        "for r in rewards_per_thousand_episodes:\n",
        "  print(count, \":\", str(sum(r/1000)))\n",
        "  count += 1000\n",
        "\n",
        "print(\"\\n\\n @@@@@@-Q Table-@@@@@@\")\n",
        "print(q_table)"
      ],
      "execution_count": 13,
      "outputs": [
        {
          "output_type": "stream",
          "text": [
            "@@@@@@@-Averaged Reward per Thousand Episodes-@@@@@@@@ \n",
            "\n",
            "1000 : 0.05000000000000004\n",
            "2000 : 0.20800000000000016\n",
            "3000 : 0.3970000000000003\n",
            "4000 : 0.5370000000000004\n",
            "5000 : 0.6190000000000004\n",
            "6000 : 0.6930000000000005\n",
            "7000 : 0.6590000000000005\n",
            "8000 : 0.6630000000000005\n",
            "9000 : 0.6650000000000005\n",
            "10000 : 0.6910000000000005\n",
            "\n",
            "\n",
            " @@@@@@-Q Table-@@@@@@\n",
            "[[0.56244351 0.50374078 0.53593381 0.51974024]\n",
            " [0.3419895  0.27539613 0.32688508 0.5168152 ]\n",
            " [0.40867479 0.42164054 0.40095301 0.47682106]\n",
            " [0.34389555 0.30915763 0.34316964 0.45863236]\n",
            " [0.57291142 0.36507708 0.37252351 0.30702495]\n",
            " [0.         0.         0.         0.        ]\n",
            " [0.33159692 0.11499452 0.18440949 0.16258189]\n",
            " [0.         0.         0.         0.        ]\n",
            " [0.35483417 0.32312083 0.34693794 0.61286164]\n",
            " [0.5407543  0.69400806 0.38552982 0.38314863]\n",
            " [0.62403261 0.43476382 0.19706061 0.28623298]\n",
            " [0.         0.         0.         0.        ]\n",
            " [0.         0.         0.         0.        ]\n",
            " [0.35866958 0.5366748  0.80700541 0.44207681]\n",
            " [0.74658604 0.90314    0.7962404  0.77941845]\n",
            " [0.         0.         0.         0.        ]]\n"
          ],
          "name": "stdout"
        }
      ]
    },
    {
      "cell_type": "code",
      "metadata": {
        "colab": {
          "base_uri": "https://localhost:8080/"
        },
        "id": "gwJXHfl1bP-D",
        "outputId": "864ad37c-acf7-472d-9b65-41ec474374c3"
      },
      "source": [
        "for episode in range(3):\n",
        "  state = env.reset()\n",
        "  done = False\n",
        "  print(\"@@@-Episode--\", episode+1, \"--@@@\\n\\n\")\n",
        "  time.sleep(1)\n",
        "\n",
        "  for step in range(max_steps_per_episode):\n",
        "    clear_output(wait=True)\n",
        "    env.render()\n",
        "    time.sleep(0.3)\n",
        "  \n",
        "    action = np.argmax(q_table[state, :])\n",
        "    new_state, reward, done, info = env.step(action)\n",
        "  \n",
        "    if done:\n",
        "      clear_output(wait=True)\n",
        "      env.render()\n",
        "      if reward ==1:\n",
        "        print(\"Goal Reached\")\n",
        "        time.sleep(3)\n",
        "      else:\n",
        "        print(\"You are down the hole...\")\n",
        "        time.sleep(3)\n",
        "  \n",
        "      clear_output(wait=True)\n",
        "      break\n",
        "  \n",
        "    state=new_state\n",
        "\n",
        "env.close()\n",
        "\n"
      ],
      "execution_count": 16,
      "outputs": [
        {
          "output_type": "stream",
          "text": [
            "  (Left)\n",
            "SFFF\n",
            "F\u001b[41mH\u001b[0mFH\n",
            "FFFH\n",
            "HFFG\n",
            "You are down the hole...\n"
          ],
          "name": "stdout"
        }
      ]
    }
  ]
}